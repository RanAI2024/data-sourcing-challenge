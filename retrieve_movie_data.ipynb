{
 "cells": [
  {
   "cell_type": "markdown",
   "metadata": {},
   "source": [
    "### Import Required Libraries and Set Up Environment Variables"
   ]
  },
  {
   "cell_type": "code",
   "execution_count": 1,
   "metadata": {},
   "outputs": [],
   "source": [
    "# Dependencies\n",
    "import requests\n",
    "import time\n",
    "from dotenv import load_dotenv\n",
    "import os\n",
    "import pandas as pd\n",
    "import json\n",
    "import matplotlib as plt\n",
    "import re"
   ]
  },
  {
   "cell_type": "code",
   "execution_count": 2,
   "metadata": {},
   "outputs": [],
   "source": [
    "# Set environment variables from the .env in the local environment\n",
    "load_dotenv()\n",
    "\n",
    "nyt_api_key = os.getenv(\"NYT_API_KEY\")\n",
    "tmdb_api_key = os.getenv(\"TMDB_API_KEY\")"
   ]
  },
  {
   "cell_type": "code",
   "execution_count": 3,
   "metadata": {},
   "outputs": [],
   "source": [
    "collected_data = \"output\\collected_data.csv\"\n",
    "collected_data = pd.read_csv(collected_data)"
   ]
  },
  {
   "cell_type": "code",
   "execution_count": 4,
   "metadata": {},
   "outputs": [],
   "source": [
    "selected_data = pd.concat([collected_data.iloc[0:2], collected_data.iloc[3:31]])"
   ]
  },
  {
   "cell_type": "markdown",
   "metadata": {},
   "source": [
    "### Access the New York Times API"
   ]
  },
  {
   "cell_type": "code",
   "execution_count": 6,
   "metadata": {},
   "outputs": [
    {
     "name": "stdout",
     "output_type": "stream",
     "text": [
      "Error: 401\n",
      "https://api.nytimes.com/svc/search/v2/articlesearch.json?q=section_name%3A%22Movies%22+AND+type_of_material%3A%22Review%22+AND+headline%3A%22love%22&sort=newest&fl=headline%2Cweb_url%2Csnippet%2Csource%2Ckeywords%2Cpub_date%2Cbyline%2Cword_count&begin_date=20130101&end_date=20230531\n"
     ]
    }
   ],
   "source": [
    "# Set the base URL\n",
    "url = \"https://api.nytimes.com/svc/search/v2/articlesearch.json\"\n",
    "\n",
    "# Filter for movie reviews with \"love\" in the headline\n",
    "# section_name should be \"Movies\"\n",
    "# type_of_material should be \"Review\"\n",
    "filter_query = 'section_name:\"Movies\" AND type_of_material:\"Review\" AND headline:\"love\"'\n",
    "\n",
    "# Use a sort filter, sort by newest\n",
    "sort = \"newest\"\n",
    "\n",
    "# Select the following fields to return:\n",
    "# headline, web_url, snippet, source, keywords, pub_date, byline, word_count\n",
    "field_list = \"headline,web_url,snippet,source,keywords,pub_date,byline,word_count\"\n",
    "\n",
    "# Search for reviews published between a begin and end date\n",
    "begin_date = \"20130101\"\n",
    "end_date = \"20230531\"\n",
    "\n",
    "# Build URL\n",
    "params = {\n",
    "    'q': filter_query,\n",
    "    'sort': sort,\n",
    "    'fl': field_list,\n",
    "    'begin_date': begin_date,\n",
    "    'end_date': end_date,\n",
    "}\n",
    "\n",
    "response = requests.get(url, params=params)\n",
    "if response.status_code == 200:\n",
    "    data = response.json()\n",
    "    print(data)\n",
    "else:\n",
    "    print(f\"Error: {response.status_code}\")\n",
    "\n",
    "# Print the URL for verification\n",
    "print(response.url)"
   ]
  },
  {
   "cell_type": "code",
   "execution_count": 7,
   "metadata": {},
   "outputs": [
    {
     "name": "stdout",
     "output_type": "stream",
     "text": [
      "Error: 429\n",
      "Error: 429\n",
      "Error: 429\n",
      "Error: 429\n",
      "Error: 429\n",
      "Error: 429\n",
      "Error: 429\n",
      "Error: 429\n",
      "Error: 429\n",
      "Error: 429\n",
      "Total reviews fetched: 0\n",
      "RangeIndex(start=0, stop=0, step=1)\n"
     ]
    }
   ],
   "source": [
    "\n",
    "reviews = []\n",
    "def get_reviews(page):\n",
    "    url = \"https://api.nytimes.com/svc/search/v2/articlesearch.json\"\n",
    "    params = {\n",
    "        'api-key': nyt_api_key,\n",
    "        'q': filter_query,\n",
    "        'sort': sort,\n",
    "        'fl': field_list,\n",
    "        'begin_date': begin_date,\n",
    "        'end_date': end_date,\n",
    "        'page': page\n",
    "    }\n",
    "    response = requests.get(url, params=params)\n",
    "    if response.status_code == 200:\n",
    "        data = response.json()\n",
    "        return data['response']['docs']\n",
    "    else:\n",
    "        print(f\"Error: {response.status_code}\")\n",
    "        return []\n",
    "\n",
    "for page in range(20):\n",
    "    page_reviews = get_reviews(page)\n",
    "    reviews.extend(page_reviews)\n",
    "    time.sleep(1) \n",
    "\n",
    "print(f\"Total reviews fetched: {len(reviews)}\")\n",
    "reviews_df = pd.DataFrame(reviews)\n",
    "print(reviews_df.columns)\n",
    "if 'headline' in reviews_df.columns:\n",
    "    reviews_df['title'] = reviews_df['headline'].apply(lambda x: x.get('main', ''))\n",
    "if 'byline' in reviews_df.columns:\n",
    "    reviews_df['byline'] = reviews_df['byline'].apply(lambda x: x.get('person', [{}])[0].get('firstname', '') + ' ' + x.get('person', [{}])[0].get('lastname', ''))\n",
    "\n"
   ]
  },
  {
   "cell_type": "code",
   "execution_count": 8,
   "metadata": {},
   "outputs": [
    {
     "name": "stdout",
     "output_type": "stream",
     "text": [
      "Collected 0 Reviews: []\n"
     ]
    }
   ],
   "source": [
    "# Create an empty list to store the reviews\n",
    "reviews = []\n",
    "\n",
    "# loop through pages 0-19\n",
    "def get_reviews(page):\n",
    " for page in range(20):\n",
    "    page_reviews = get_reviews(page)\n",
    "    reviews.extend(page_reviews)\n",
    "    print(f\"Collected {len(reviews)} Reviews:\", reviews)\n",
    "    # create query with a page number\n",
    "    # API results show 10 articles at a time\n",
    "\n",
    "    base_url = \"nyt_api_key\"\n",
    "    query = f\"{base_url}?page={page}\"\n",
    "    def get_reviews(page):\n",
    "       return [f\"Review {i + page * 10}\" for i in range(10)]\n",
    "     \n",
    "    # Make a \"GET\" request and retrieve the JSON\n",
    "    def get_reviews(page):\n",
    "     if response.status_code == 200:\n",
    "        data = response.json()\n",
    "        return data['articles']\n",
    "     else:\n",
    "        print(f\"Failed to retrieve data for page {page}\")\n",
    "        return []\n",
    "\n",
    "    # Add a twelve second interval between queries to stay within API query limits\n",
    "time.sleep(12)\n",
    "    \n",
    "    # Try and save the reviews to the reviews_list\n",
    "reviews_list = []\n",
    "        # loop through the reviews[\"response\"][\"docs\"] and append each review to the list\n",
    "def page_reviews(page):  \n",
    " for review in page_reviews:\n",
    "    reviews_list.append(review)\n",
    "    if not page_reviews:\n",
    "        print(f\"No results found for page {page}\")\n",
    "        break\n",
    "        # Print the page that was just retrieved\n",
    "print(f\"Collected {len(reviews_list)} Reviews:\", reviews_list)\n",
    "\n",
    "        # Print the page number that had no results then break from the loop"
   ]
  },
  {
   "cell_type": "code",
   "execution_count": 9,
   "metadata": {},
   "outputs": [
    {
     "name": "stdout",
     "output_type": "stream",
     "text": [
      "RangeIndex(start=0, stop=0, step=1)\n"
     ]
    }
   ],
   "source": [
    "reviews_df = pd.DataFrame(reviews)\n",
    "print(reviews_df.columns)"
   ]
  },
  {
   "cell_type": "code",
   "execution_count": 10,
   "metadata": {},
   "outputs": [
    {
     "name": "stdout",
     "output_type": "stream",
     "text": [
      "First 5 reviews in JSON format:\n",
      "[]\n"
     ]
    }
   ],
   "source": [
    "# Preview the first 5 results in JSON format\n",
    "# Use json.dumps with argument indent=4 to format data\n",
    "print(\"First 5 reviews in JSON format:\")\n",
    "print(json.dumps(reviews_list[:5], indent=2))"
   ]
  },
  {
   "cell_type": "code",
   "execution_count": 11,
   "metadata": {},
   "outputs": [
    {
     "name": "stdout",
     "output_type": "stream",
     "text": [
      "DataFrame preview:\n",
      "Empty DataFrame\n",
      "Columns: []\n",
      "Index: []\n"
     ]
    }
   ],
   "source": [
    "# Convert reviews_list to a Pandas DataFrame using json_normalize()\n",
    "reviews_df = pd.json_normalize(reviews_list)\n",
    "print(\"DataFrame preview:\")\n",
    "print(reviews_df.head())\n"
   ]
  },
  {
   "cell_type": "code",
   "execution_count": 12,
   "metadata": {},
   "outputs": [
    {
     "name": "stdout",
     "output_type": "stream",
     "text": [
      "First 5 reviews in JSON format:\n",
      "[]\n"
     ]
    }
   ],
   "source": [
    "print(\"First 5 reviews in JSON format:\")\n",
    "print(json.dumps(reviews[:5], indent=4))"
   ]
  },
  {
   "cell_type": "code",
   "execution_count": 13,
   "metadata": {},
   "outputs": [
    {
     "name": "stdout",
     "output_type": "stream",
     "text": [
      "Column 'headline.main' not found in the DataFrame\n",
      "Empty DataFrame\n",
      "Columns: []\n",
      "Index: []\n"
     ]
    }
   ],
   "source": [
    "# Extract the title from the \"headline.main\" column and\n",
    "# save it to a new column \"title\"\n",
    "# Title is between unicode characters \\u2018 and \\u2019. \n",
    "# End string should include \" Review\" to avoid cutting title early\n",
    "title = {\"x\"}\n",
    "def extract_title(headline):\n",
    "    match = re.search(r'\\u2018(.*?)\\u2019 Review', headline)\n",
    "    return match.group(1) if match else None\n",
    "if 'headline.main' in reviews_df.columns:\n",
    "    reviews_df['title'] = reviews_df['headline.main'].apply(extract_title)\n",
    "else:\n",
    "    print(\"Column 'headline.main' not found in the DataFrame\")\n",
    "reviews_df.to_csv('nyt_movie_reviews.csv', index=False)\n",
    "print(reviews_df.head())\n",
    "    "
   ]
  },
  {
   "cell_type": "code",
   "execution_count": 14,
   "metadata": {},
   "outputs": [
    {
     "name": "stdout",
     "output_type": "stream",
     "text": [
      "Column 'keywords' not found in the DataFrame\n",
      "Empty DataFrame\n",
      "Columns: []\n",
      "Index: []\n"
     ]
    }
   ],
   "source": [
    "# Extract 'name' and 'value' from items in \"keywords\" column\n",
    "def extract_keywords(keyword_list):\n",
    "    extracted_keywords = \"\"\n",
    "    for item in keyword_list:\n",
    "        keyword = f\"{item['name']}: {item['value']};\" \n",
    "        # Append the keyword item to the extracted_keywords list\n",
    "        extracted_keywords += keyword\n",
    "    return extracted_keywords\n",
    "\n",
    "# Fix the \"keywords\" column by converting cells from a list to a string\n",
    "if 'keywords' in reviews_df.columns:\n",
    "    reviews_df['keywords'] = reviews_df['keywords'].apply(extract_keywords)\n",
    "else:\n",
    "    print(\"Column 'keywords' not found in the DataFrame\")\n",
    "reviews_df.to_csv('nyt_movie_reviews.csv', index=False)\n",
    "print(reviews_df.head())"
   ]
  },
  {
   "cell_type": "code",
   "execution_count": 15,
   "metadata": {
    "scrolled": true
   },
   "outputs": [
    {
     "name": "stdout",
     "output_type": "stream",
     "text": [
      "Column 'title' not found in the DataFrame\n"
     ]
    }
   ],
   "source": [
    "# Create a list from the \"title\" column using to_list()\n",
    "# These titles will be used in the query for The Movie Database\n",
    "if 'title' in reviews_df.columns:\n",
    "    titles_list = reviews_df['title'].to_list()\n",
    "    print(\"List of titles:\")\n",
    "    print(titles_list)\n",
    "else:\n",
    "    print(\"Column 'title' not found in the DataFrame\")"
   ]
  },
  {
   "cell_type": "markdown",
   "metadata": {},
   "source": [
    "### Access The Movie Database API"
   ]
  },
  {
   "cell_type": "code",
   "execution_count": 16,
   "metadata": {},
   "outputs": [
    {
     "name": "stdout",
     "output_type": "stream",
     "text": [
      "Movie ID not found for: What's Love Got to Do with It?\n",
      "Movie ID not found for: A Tourist's Guide to Love\n",
      "Movie ID not found for: Lady Chatterley's Lover\n",
      "Movie ID not found for: Meet Me in the Bathroom\n",
      "Movie ID not found for: I Love My Dad\n",
      "Movie ID not found for: Art of Love\n",
      "Movie ID not found for: My Donkey, My Lover & I\n",
      "Movie ID not found for: Thor: Love and Thunder\n",
      "Movie ID not found for: Anaïs in Love\n",
      "Movie ID not found for: I Love America\n",
      "Movie ID not found for: Book of Love\n",
      "Movie ID not found for: Love Hard\n",
      "Movie ID not found for: Hard Luck Love Song\n",
      "Movie ID not found for: Happier Than Ever: A Love Letter to Los Angeles\n",
      "Movie ID not found for: Resort to Love\n",
      "Movie ID not found for: The Last Letter from Your Lover\n",
      "Movie ID not found for: Summer of Soul (...Or, When the Revolution Could Not Be Televised)\n",
      "Movie ID not found for: The Killing of Two Lovers\n",
      "Movie ID not found for: Sylvie's Love\n",
      "Movie ID not found for: Love and Monsters\n",
      "Movie ID not found for: Love, Guaranteed\n",
      "Movie ID not found for: The Lovebirds\n",
      "Movie ID not found for: A Secret Love\n",
      "Movie ID not found for: Ordinary Love\n",
      "Movie ID not found for: To All the Boys: P.S. I Still Love You\n",
      "Movie ID not found for: The Woman Who Loves Giraffes\n",
      "Movie ID not found for: Cyrano, My Love\n",
      "Movie ID not found for: First Love\n",
      "Movie ID not found for: The Golden Glove\n",
      "Movie ID not found for: Always in Season\n",
      "Data collection complete. Saved to 'tmdb_movie_details.csv'.\n"
     ]
    }
   ],
   "source": [
    "# Create an empty list to store the results\n",
    "\n",
    "# Create a request counter to sleep the requests after a multiple\n",
    "# of 50 requests\n",
    "\n",
    "# Loop through the titles\n",
    "\n",
    "    # Add 1 to the request counter\n",
    "    \n",
    "    # Perform a \"GET\" request for The Movie Database\n",
    "\n",
    "    # Include a try clause to search for the full movie details.\n",
    "    # Use the except clause to print out a statement if a movie\n",
    "    # is not found.\n",
    "\n",
    "\n",
    "# Get movie id\n",
    "\n",
    "    \n",
    "# Make a request for a the full movie details\n",
    "\n",
    "\n",
    "# Execute \"GET\" request with url\n",
    "\n",
    "# Extract the genre names into a list\n",
    "\n",
    "\n",
    "# Extract spoken language names into a list\n",
    "\n",
    "# Extract production country names into a list\n",
    "\n",
    "# Add the relevant data to a dictionary and\n",
    "# append it to the tmdb_movies_list list\n",
    "\n",
    "        \n",
    "# Print out the title that was found\n",
    "\n",
    "# Function to fetch movie ID from TMDB\n",
    "\n",
    "\n",
    "# Function to fetch full movie details from TMDB using movie ID\n",
    "\n",
    "\n",
    "# Initialize list to store full movie details\n",
    "\n",
    "\n",
    "# Loop through the titles and fetch details\n",
    "\n",
    "\n",
    "# Add the relevant data to a dictionary and append it to the tmdb_movies_list list\n",
    "  \n",
    "\n",
    "\n",
    "# Convert the tmdb_movies_list to a DataFrame\n",
    "API_KEY = 'tmdb_api_key'\n",
    "def fetch_movie_id(title, api_key):\n",
    "    search_url = f'https://api.themoviedb.org/3/search/movie?api_key={api_key}&query={title}'\n",
    "    response = requests.get(search_url)\n",
    "    if response.status_code == 200:\n",
    "        data = response.json()\n",
    "        if data['results']:\n",
    "            return data['results'][0]['id']\n",
    "    return None\n",
    "def fetch_movie_details(movie_id, api_key):\n",
    "    details_url = f'https://api.themoviedb.org/3/movie/{movie_id}?api_key={api_key}'\n",
    "    response = requests.get(details_url)\n",
    "    if response.status_code == 200:\n",
    "        return response.json()\n",
    "    return None\n",
    "tmdb_movies_list = []\n",
    "collected_data_path = 'output/collected_data.csv'\n",
    "collected_data = pd.read_csv(collected_data_path)\n",
    "selected_data = pd.concat([collected_data.iloc[0:2], collected_data.iloc[3:31]])\n",
    "\n",
    "request_counter = 0\n",
    "\n",
    "for title in selected_data['title']:\n",
    "    request_counter += 1\n",
    "    try:\n",
    "        movie_id = fetch_movie_id(title, API_KEY)\n",
    "        if movie_id:\n",
    "            movie_details = fetch_movie_details(movie_id, API_KEY)\n",
    "            if movie_details:\n",
    "                genres = [genre['name'] for genre in movie_details.get('genres', [])]\n",
    "                spoken_languages = [lang['english_name'] for lang in movie_details.get('spoken_languages', [])]\n",
    "                production_countries = [country['name'] for country in movie_details.get('production_countries', [])]\n",
    "                movie_data = {\n",
    "                    'title': title,\n",
    "                    'genres': genres,\n",
    "                    'spoken_languages': spoken_languages,\n",
    "                    'production_countries': production_countries,\n",
    "                    'release_date': movie_details.get('release_date'),\n",
    "                    'runtime': movie_details.get('runtime'),\n",
    "                    'budget': movie_details.get('budget'),\n",
    "                    'revenue': movie_details.get('revenue'),\n",
    "                    'vote_average': movie_details.get('vote_average'),\n",
    "                    'vote_count': movie_details.get('vote_count')\n",
    "                }\n",
    "                tmdb_movies_list.append(movie_data)\n",
    "                print(f\"Found details for: {title}\")\n",
    "            else:\n",
    "                print(f\"Details not found for movie ID: {movie_id}\")\n",
    "        else:\n",
    "            print(f\"Movie ID not found for: {title}\")\n",
    "    except Exception as e:\n",
    "        print(f\"Error fetching details for {title}: {e}\")\n",
    "    if request_counter % 50 == 0:\n",
    "        time.sleep(10)\n",
    "tmdb_movies_df = pd.DataFrame(tmdb_movies_list)\n",
    "tmdb_movies_df.to_csv('tmdb_movie_details.csv', index=False)\n",
    "\n",
    "print(\"Data collection complete. Saved to 'tmdb_movie_details.csv'.\")"
   ]
  },
  {
   "cell_type": "code",
   "execution_count": 17,
   "metadata": {},
   "outputs": [
    {
     "name": "stdout",
     "output_type": "stream",
     "text": [
      "[]\n"
     ]
    }
   ],
   "source": [
    "# Preview the first 5 results in JSON format\n",
    "# Use json.dumps with argument indent=4 to format data\n",
    "first_5_results_json = json.dumps(tmdb_movies_list[:5], indent=4)\n",
    "print(first_5_results_json)"
   ]
  },
  {
   "cell_type": "code",
   "execution_count": 18,
   "metadata": {},
   "outputs": [],
   "source": [
    "# Prepare The Movie Database query\n",
    "url = \"https://api.themoviedb.org/3/search/movie?query=\"\n",
    "tmdb_key_string = \"&api_key=\" + tmdb_api_key"
   ]
  },
  {
   "cell_type": "code",
   "execution_count": 19,
   "metadata": {},
   "outputs": [],
   "source": [
    "# Convert the results to a DataFrame\n",
    "def fetch_movie_id(title, api_key):\n",
    "    search_url = f'output/collected_data.csv'\n",
    "    response = requests.get(search_url)\n",
    "    if response.status_code == 200:\n",
    "        data = response.json()\n",
    "        if data['results']:\n",
    "            return data['results'][0]['id']\n",
    "    return None\n",
    "def fetch_movie_details(movie_id, api_key):\n",
    "    details_url = f'https://api.themoviedb.org/3/movie/{movie_id}?api_key={api_key}'\n",
    "    response = requests.get(details_url)\n",
    "    if response.status_code == 200:\n",
    "        return response.json()\n",
    "    return None\n",
    "tmdb_movies_df = pd.DataFrame(tmdb_movies_list)"
   ]
  },
  {
   "cell_type": "markdown",
   "metadata": {},
   "source": [
    "### Merge and Clean the Data for Export"
   ]
  },
  {
   "cell_type": "code",
   "execution_count": 20,
   "metadata": {},
   "outputs": [],
   "source": [
    "def fetch_movies_details_and_reviews(titles, api_key):\n",
    "    movies_list = []\n",
    "    reviews_list = []\n",
    "    for title in titles:\n",
    "        movie_id = fetch_movie_id(title, api_key)\n",
    "        if movie_id:\n",
    "            movie_details = fetch_movie_details(movie_id, api_key)\n",
    "            movie_reviews = fetch_movie_reviews(movie_id, api_key)\n",
    "            if movie_details:\n",
    "                movies_list.append(movie_details)\n",
    "            if movie_reviews and 'results' in movie_reviews:\n",
    "                for review in movie_reviews['results']:\n",
    "                    reviews_list.append({'title': title, 'review': review['content']})\n",
    "    return pd.DataFrame(movies_list), pd.DataFrame(reviews_list)"
   ]
  },
  {
   "cell_type": "code",
   "execution_count": 21,
   "metadata": {},
   "outputs": [],
   "source": [
    "if 'headline.main' in reviews_df.columns:\n",
    "    reviews_df = reviews_df.rename(columns={'headline.main': 'title'})\n",
    "if 'original_title' in tmdb_movies_df.columns:\n",
    "    tmdb_movies_df = tmdb_movies_df.rename(columns={'original_title': 'title'})\n"
   ]
  },
  {
   "cell_type": "code",
   "execution_count": 22,
   "metadata": {},
   "outputs": [
    {
     "name": "stdout",
     "output_type": "stream",
     "text": [
      "Reviews Data Columns: RangeIndex(start=0, stop=0, step=1)\n",
      "TMDB Movies Data Columns: RangeIndex(start=0, stop=0, step=1)\n"
     ]
    }
   ],
   "source": [
    "print(\"Reviews Data Columns:\", reviews_df.columns)\n",
    "print(\"TMDB Movies Data Columns:\", tmdb_movies_df.columns)"
   ]
  },
  {
   "cell_type": "code",
   "execution_count": 23,
   "metadata": {},
   "outputs": [
    {
     "name": "stdout",
     "output_type": "stream",
     "text": [
      "Collected Data DataFrame:\n",
      "                            title                  original_title  budget  \\\n",
      "0  What's Love Got to Do with It?  What's Love Got to Do with It?       0   \n",
      "1       A Tourist's Guide to Love       A Tourist's Guide to Love       0   \n",
      "2                  One True Loves                  One True Loves       0   \n",
      "3         Lady Chatterley's Lover         Lady Chatterley's Lover       0   \n",
      "4         Meet Me in the Bathroom         Meet Me in the Bathroom       0   \n",
      "\n",
      "                        genre language spoken_languages  \\\n",
      "0             Romance, Comedy       en    English, Urdu   \n",
      "1  Romance, Comedy, Adventure       en          English   \n",
      "2      Romance, Drama, Comedy       en          English   \n",
      "3              Drama, Romance       en          English   \n",
      "4          Documentary, Music       en          English   \n",
      "\n",
      "                                   homepage  \\\n",
      "0                                       NaN   \n",
      "1    https://www.netflix.com/title/81424906   \n",
      "2                                       NaN   \n",
      "3    https://www.netflix.com/title/81476441   \n",
      "4  https://www.meetmeinthebathroomfilm.com/   \n",
      "\n",
      "                                            overview  popularity  runtime  \\\n",
      "0  Two childhood friends now in their thirties mu...      26.487      109   \n",
      "1  After an unexpected break up, a travel executi...      35.446       96   \n",
      "2  Emma and Jesse are living the perfect life tog...      58.730      100   \n",
      "3  Unhappily married aristocrat Lady Chatterley b...      33.251      126   \n",
      "4  Set against the backdrop of 9/11, this documen...       6.626      108   \n",
      "\n",
      "   ...  opening_date         date_updated  link.type  \\\n",
      "0  ...    2023-05-05  2023-05-04 17:17:05    article   \n",
      "1  ...    2023-04-21  2023-04-21 07:04:03    article   \n",
      "2  ...    2023-04-14  2023-04-13 11:02:07    article   \n",
      "3  ...    2022-12-02  2022-12-01 16:41:03    article   \n",
      "4  ...    2022-11-25  2022-11-03 11:05:03    article   \n",
      "\n",
      "                                            link.url  \\\n",
      "0  https://www.nytimes.com/2023/05/04/movies/what...   \n",
      "1  https://www.nytimes.com/2023/04/21/movies/a-to...   \n",
      "2  https://www.nytimes.com/2023/04/13/movies/one-...   \n",
      "3  https://www.nytimes.com/2022/12/01/movies/lady...   \n",
      "4  https://www.nytimes.com/2022/11/03/movies/meet...   \n",
      "\n",
      "                            link.suggested_link_text      multimedia.type  \\\n",
      "0  Read the New York Times Review of What's Love ...  mediumThreeByTwo210   \n",
      "1  Read the New York Times Review of A Tourist's ...  mediumThreeByTwo210   \n",
      "2   Read the New York Times Review of One True Loves  mediumThreeByTwo210   \n",
      "3  Read the New York Times Review of Lady Chatter...  mediumThreeByTwo210   \n",
      "4  Read the New York Times Review of Meet Me in t...  mediumThreeByTwo210   \n",
      "\n",
      "                                      multimedia.src multimedia.height  \\\n",
      "0  https://static01.nyt.com/images/2023/05/04/mul...             140.0   \n",
      "1  https://static01.nyt.com/images/2023/04/21/mul...             140.0   \n",
      "2  https://static01.nyt.com/images/2023/04/13/mul...             140.0   \n",
      "3  https://static01.nyt.com/images/2022/12/01/mul...             140.0   \n",
      "4  https://static01.nyt.com/images/2022/11/04/art...             140.0   \n",
      "\n",
      "  multimedia.width multimedia  \n",
      "0            210.0        NaN  \n",
      "1            210.0        NaN  \n",
      "2            210.0        NaN  \n",
      "3            210.0        NaN  \n",
      "4            210.0        NaN  \n",
      "\n",
      "[5 rows x 31 columns]\n",
      "\n",
      "Reviews DataFrame:\n",
      "Empty DataFrame\n",
      "Columns: []\n",
      "Index: []\n"
     ]
    }
   ],
   "source": [
    "print(\"Collected Data DataFrame:\")\n",
    "print(collected_data.head())\n",
    "\n",
    "print(\"\\nReviews DataFrame:\")\n",
    "print(reviews_df.head())"
   ]
  },
  {
   "cell_type": "code",
   "execution_count": null,
   "metadata": {},
   "outputs": [],
   "source": [
    "# Had to add sample data to reviews_df in order to merge"
   ]
  },
  {
   "cell_type": "code",
   "execution_count": 29,
   "metadata": {
    "scrolled": true
   },
   "outputs": [
    {
     "name": "stdout",
     "output_type": "stream",
     "text": [
      "                            title                  original_title  budget  \\\n",
      "0  What's Love Got to Do with It?  What's Love Got to Do with It?       0   \n",
      "1       A Tourist's Guide to Love       A Tourist's Guide to Love       0   \n",
      "2                  One True Loves                  One True Loves       0   \n",
      "3         Lady Chatterley's Lover         Lady Chatterley's Lover       0   \n",
      "4         Meet Me in the Bathroom         Meet Me in the Bathroom       0   \n",
      "\n",
      "                        genre language spoken_languages  \\\n",
      "0             Romance, Comedy       en    English, Urdu   \n",
      "1  Romance, Comedy, Adventure       en          English   \n",
      "2      Romance, Drama, Comedy       en          English   \n",
      "3              Drama, Romance       en          English   \n",
      "4          Documentary, Music       en          English   \n",
      "\n",
      "                                   homepage  \\\n",
      "0                                       NaN   \n",
      "1    https://www.netflix.com/title/81424906   \n",
      "2                                       NaN   \n",
      "3    https://www.netflix.com/title/81476441   \n",
      "4  https://www.meetmeinthebathroomfilm.com/   \n",
      "\n",
      "                                            overview  popularity  runtime  \\\n",
      "0  Two childhood friends now in their thirties mu...      26.487      109   \n",
      "1  After an unexpected break up, a travel executi...      35.446       96   \n",
      "2  Emma and Jesse are living the perfect life tog...      58.730      100   \n",
      "3  Unhappily married aristocrat Lady Chatterley b...      33.251      126   \n",
      "4  Set against the backdrop of 9/11, this documen...       6.626      108   \n",
      "\n",
      "   ...  link.type                                           link.url  \\\n",
      "0  ...    article  https://www.nytimes.com/2023/05/04/movies/what...   \n",
      "1  ...    article  https://www.nytimes.com/2023/04/21/movies/a-to...   \n",
      "2  ...    article  https://www.nytimes.com/2023/04/13/movies/one-...   \n",
      "3  ...    article  https://www.nytimes.com/2022/12/01/movies/lady...   \n",
      "4  ...    article  https://www.nytimes.com/2022/11/03/movies/meet...   \n",
      "\n",
      "                            link.suggested_link_text      multimedia.type  \\\n",
      "0  Read the New York Times Review of What's Love ...  mediumThreeByTwo210   \n",
      "1  Read the New York Times Review of A Tourist's ...  mediumThreeByTwo210   \n",
      "2   Read the New York Times Review of One True Loves  mediumThreeByTwo210   \n",
      "3  Read the New York Times Review of Lady Chatter...  mediumThreeByTwo210   \n",
      "4  Read the New York Times Review of Meet Me in t...  mediumThreeByTwo210   \n",
      "\n",
      "                                      multimedia.src multimedia.height  \\\n",
      "0  https://static01.nyt.com/images/2023/05/04/mul...             140.0   \n",
      "1  https://static01.nyt.com/images/2023/04/21/mul...             140.0   \n",
      "2  https://static01.nyt.com/images/2023/04/13/mul...             140.0   \n",
      "3  https://static01.nyt.com/images/2022/12/01/mul...             140.0   \n",
      "4  https://static01.nyt.com/images/2022/11/04/art...             140.0   \n",
      "\n",
      "   multimedia.width multimedia                                         review  \\\n",
      "0             210.0        NaN  An insightful take on love and relationships.   \n",
      "1             210.0        NaN        A light-hearted guide for love-seekers.   \n",
      "2             210.0        NaN             A touching story of enduring love.   \n",
      "3             210.0        NaN                   A bold and passionate drama.   \n",
      "4             210.0        NaN        A nostalgic look back at an iconic era.   \n",
      "\n",
      "  review_date  \n",
      "0  2023-05-04  \n",
      "1  2023-04-21  \n",
      "2  2023-04-13  \n",
      "3  2022-12-01  \n",
      "4  2022-11-03  \n",
      "\n",
      "[5 rows x 33 columns]\n"
     ]
    }
   ],
   "source": [
    "# Merge the New York Times reviews and TMDB DataFrames on title\n",
    "data = {\n",
    "    'title': [\n",
    "        \"What's Love Got to Do with It?\", \"A Tourist's Guide to Love\", \n",
    "        \"One True Loves\", \"Lady Chatterley's Lover\", \"Meet Me in the Bathroom\"\n",
    "    ],\n",
    "    'review': [\n",
    "        \"An insightful take on love and relationships.\",\n",
    "        \"A light-hearted guide for love-seekers.\",\n",
    "        \"A touching story of enduring love.\",\n",
    "        \"A bold and passionate drama.\",\n",
    "        \"A nostalgic look back at an iconic era.\"\n",
    "    ],\n",
    "    'review_date': [\n",
    "        \"2023-05-04\", \"2023-04-21\", \"2023-04-13\", \"2022-12-01\", \"2022-11-03\"\n",
    "    ]\n",
    "}\n",
    "reviews_df = pd.DataFrame(data)\n",
    "merged_df = pd.merge(collected_data, reviews_df, on='title', how='inner')\n",
    "print(merged_df.head())"
   ]
  },
  {
   "cell_type": "code",
   "execution_count": 30,
   "metadata": {},
   "outputs": [
    {
     "name": "stdout",
     "output_type": "stream",
     "text": [
      "                            title                  original_title  budget  \\\n",
      "0  What's Love Got to Do with It?  What's Love Got to Do with It?       0   \n",
      "1       A Tourist's Guide to Love       A Tourist's Guide to Love       0   \n",
      "2                  One True Loves                  One True Loves       0   \n",
      "3         Lady Chatterley's Lover         Lady Chatterley's Lover       0   \n",
      "4         Meet Me in the Bathroom         Meet Me in the Bathroom       0   \n",
      "\n",
      "                        genre language spoken_languages  \\\n",
      "0             Romance, Comedy       en    English, Urdu   \n",
      "1  Romance, Comedy, Adventure       en          English   \n",
      "2      Romance, Drama, Comedy       en          English   \n",
      "3              Drama, Romance       en          English   \n",
      "4          Documentary, Music       en          English   \n",
      "\n",
      "                                   homepage  \\\n",
      "0                                       NaN   \n",
      "1    https://www.netflix.com/title/81424906   \n",
      "2                                       NaN   \n",
      "3    https://www.netflix.com/title/81476441   \n",
      "4  https://www.meetmeinthebathroomfilm.com/   \n",
      "\n",
      "                                            overview  popularity  runtime  \\\n",
      "0  Two childhood friends now in their thirties mu...      26.487      109   \n",
      "1  After an unexpected break up, a travel executi...      35.446       96   \n",
      "2  Emma and Jesse are living the perfect life tog...      58.730      100   \n",
      "3  Unhappily married aristocrat Lady Chatterley b...      33.251      126   \n",
      "4  Set against the backdrop of 9/11, this documen...       6.626      108   \n",
      "\n",
      "   ...  link.type                                           link.url  \\\n",
      "0  ...    article  https://www.nytimes.com/2023/05/04/movies/what...   \n",
      "1  ...    article  https://www.nytimes.com/2023/04/21/movies/a-to...   \n",
      "2  ...    article  https://www.nytimes.com/2023/04/13/movies/one-...   \n",
      "3  ...    article  https://www.nytimes.com/2022/12/01/movies/lady...   \n",
      "4  ...    article  https://www.nytimes.com/2022/11/03/movies/meet...   \n",
      "\n",
      "                            link.suggested_link_text      multimedia.type  \\\n",
      "0  Read the New York Times Review of What's Love ...  mediumThreeByTwo210   \n",
      "1  Read the New York Times Review of A Tourist's ...  mediumThreeByTwo210   \n",
      "2   Read the New York Times Review of One True Loves  mediumThreeByTwo210   \n",
      "3  Read the New York Times Review of Lady Chatter...  mediumThreeByTwo210   \n",
      "4  Read the New York Times Review of Meet Me in t...  mediumThreeByTwo210   \n",
      "\n",
      "                                      multimedia.src multimedia.height  \\\n",
      "0  https://static01.nyt.com/images/2023/05/04/mul...             140.0   \n",
      "1  https://static01.nyt.com/images/2023/04/21/mul...             140.0   \n",
      "2  https://static01.nyt.com/images/2023/04/13/mul...             140.0   \n",
      "3  https://static01.nyt.com/images/2022/12/01/mul...             140.0   \n",
      "4  https://static01.nyt.com/images/2022/11/04/art...             140.0   \n",
      "\n",
      "   multimedia.width multimedia                                         review  \\\n",
      "0             210.0        NaN  An insightful take on love and relationships.   \n",
      "1             210.0        NaN        A light-hearted guide for love-seekers.   \n",
      "2             210.0        NaN             A touching story of enduring love.   \n",
      "3             210.0        NaN                   A bold and passionate drama.   \n",
      "4             210.0        NaN        A nostalgic look back at an iconic era.   \n",
      "\n",
      "  review_date  \n",
      "0  2023-05-04  \n",
      "1  2023-04-21  \n",
      "2  2023-04-13  \n",
      "3  2022-12-01  \n",
      "4  2022-11-03  \n",
      "\n",
      "[5 rows x 33 columns]\n"
     ]
    }
   ],
   "source": [
    "# Remove list brackets and quotation marks on the columns containing lists\n",
    "# Create a list of the columns that need fixing\n",
    "\n",
    "\n",
    "# Create a list of characters to remove\n",
    "\n",
    "\n",
    "# Loop through the list of columns to fix\n",
    "\n",
    "    # Convert the column to type 'str'\n",
    "\n",
    "\n",
    "    # Loop through characters to remove\n",
    "\n",
    "\n",
    "# Display the fixed DataFrame\n",
    "columns_to_fix = ['spoken_languages', 'production_countries']  \n",
    "characters_to_remove = ['[', ']', '\"']\n",
    "for column in columns_to_fix:\n",
    "    merged_df[column] = merged_df[column].astype(str)\n",
    "    for char in characters_to_remove:\n",
    "        merged_df[column] = merged_df[column].str.replace(char, '')\n",
    "print(merged_df.head())"
   ]
  },
  {
   "cell_type": "code",
   "execution_count": 31,
   "metadata": {},
   "outputs": [
    {
     "name": "stdout",
     "output_type": "stream",
     "text": [
      "                            title                  original_title  budget  \\\n",
      "0  What's Love Got to Do with It?  What's Love Got to Do with It?       0   \n",
      "1       A Tourist's Guide to Love       A Tourist's Guide to Love       0   \n",
      "2                  One True Loves                  One True Loves       0   \n",
      "3         Lady Chatterley's Lover         Lady Chatterley's Lover       0   \n",
      "4         Meet Me in the Bathroom         Meet Me in the Bathroom       0   \n",
      "\n",
      "                        genre language spoken_languages  \\\n",
      "0             Romance, Comedy       en    English, Urdu   \n",
      "1  Romance, Comedy, Adventure       en          English   \n",
      "2      Romance, Drama, Comedy       en          English   \n",
      "3              Drama, Romance       en          English   \n",
      "4          Documentary, Music       en          English   \n",
      "\n",
      "                                   homepage  \\\n",
      "0                                       NaN   \n",
      "1    https://www.netflix.com/title/81424906   \n",
      "2                                       NaN   \n",
      "3    https://www.netflix.com/title/81476441   \n",
      "4  https://www.meetmeinthebathroomfilm.com/   \n",
      "\n",
      "                                            overview  popularity  runtime  \\\n",
      "0  Two childhood friends now in their thirties mu...      26.487      109   \n",
      "1  After an unexpected break up, a travel executi...      35.446       96   \n",
      "2  Emma and Jesse are living the perfect life tog...      58.730      100   \n",
      "3  Unhappily married aristocrat Lady Chatterley b...      33.251      126   \n",
      "4  Set against the backdrop of 9/11, this documen...       6.626      108   \n",
      "\n",
      "   ...  link.type                                           link.url  \\\n",
      "0  ...    article  https://www.nytimes.com/2023/05/04/movies/what...   \n",
      "1  ...    article  https://www.nytimes.com/2023/04/21/movies/a-to...   \n",
      "2  ...    article  https://www.nytimes.com/2023/04/13/movies/one-...   \n",
      "3  ...    article  https://www.nytimes.com/2022/12/01/movies/lady...   \n",
      "4  ...    article  https://www.nytimes.com/2022/11/03/movies/meet...   \n",
      "\n",
      "                            link.suggested_link_text      multimedia.type  \\\n",
      "0  Read the New York Times Review of What's Love ...  mediumThreeByTwo210   \n",
      "1  Read the New York Times Review of A Tourist's ...  mediumThreeByTwo210   \n",
      "2   Read the New York Times Review of One True Loves  mediumThreeByTwo210   \n",
      "3  Read the New York Times Review of Lady Chatter...  mediumThreeByTwo210   \n",
      "4  Read the New York Times Review of Meet Me in t...  mediumThreeByTwo210   \n",
      "\n",
      "                                      multimedia.src multimedia.height  \\\n",
      "0  https://static01.nyt.com/images/2023/05/04/mul...             140.0   \n",
      "1  https://static01.nyt.com/images/2023/04/21/mul...             140.0   \n",
      "2  https://static01.nyt.com/images/2023/04/13/mul...             140.0   \n",
      "3  https://static01.nyt.com/images/2022/12/01/mul...             140.0   \n",
      "4  https://static01.nyt.com/images/2022/11/04/art...             140.0   \n",
      "\n",
      "   multimedia.width multimedia                                         review  \\\n",
      "0             210.0        NaN  An insightful take on love and relationships.   \n",
      "1             210.0        NaN        A light-hearted guide for love-seekers.   \n",
      "2             210.0        NaN             A touching story of enduring love.   \n",
      "3             210.0        NaN                   A bold and passionate drama.   \n",
      "4             210.0        NaN        A nostalgic look back at an iconic era.   \n",
      "\n",
      "  review_date  \n",
      "0  2023-05-04  \n",
      "1  2023-04-21  \n",
      "2  2023-04-13  \n",
      "3  2022-12-01  \n",
      "4  2022-11-03  \n",
      "\n",
      "[5 rows x 33 columns]\n"
     ]
    }
   ],
   "source": [
    "# Drop \"byline.person\" column\n",
    "if 'byline.person' in merged_df.columns:\n",
    " merged_df = merged_df.drop(columns=['byline.person'])\n",
    "print(merged_df.head())"
   ]
  },
  {
   "cell_type": "code",
   "execution_count": 32,
   "metadata": {},
   "outputs": [
    {
     "name": "stdout",
     "output_type": "stream",
     "text": [
      "                            title                  original_title  budget  \\\n",
      "0  What's Love Got to Do with It?  What's Love Got to Do with It?       0   \n",
      "1       A Tourist's Guide to Love       A Tourist's Guide to Love       0   \n",
      "2                  One True Loves                  One True Loves       0   \n",
      "3         Lady Chatterley's Lover         Lady Chatterley's Lover       0   \n",
      "4         Meet Me in the Bathroom         Meet Me in the Bathroom       0   \n",
      "\n",
      "                        genre language spoken_languages  \\\n",
      "0             Romance, Comedy       en    English, Urdu   \n",
      "1  Romance, Comedy, Adventure       en          English   \n",
      "2      Romance, Drama, Comedy       en          English   \n",
      "3              Drama, Romance       en          English   \n",
      "4          Documentary, Music       en          English   \n",
      "\n",
      "                                   homepage  \\\n",
      "0                                       NaN   \n",
      "1    https://www.netflix.com/title/81424906   \n",
      "2                                       NaN   \n",
      "3    https://www.netflix.com/title/81476441   \n",
      "4  https://www.meetmeinthebathroomfilm.com/   \n",
      "\n",
      "                                            overview  popularity  runtime  \\\n",
      "0  Two childhood friends now in their thirties mu...      26.487      109   \n",
      "1  After an unexpected break up, a travel executi...      35.446       96   \n",
      "2  Emma and Jesse are living the perfect life tog...      58.730      100   \n",
      "3  Unhappily married aristocrat Lady Chatterley b...      33.251      126   \n",
      "4  Set against the backdrop of 9/11, this documen...       6.626      108   \n",
      "\n",
      "   ...  link.type                                           link.url  \\\n",
      "0  ...    article  https://www.nytimes.com/2023/05/04/movies/what...   \n",
      "1  ...    article  https://www.nytimes.com/2023/04/21/movies/a-to...   \n",
      "2  ...    article  https://www.nytimes.com/2023/04/13/movies/one-...   \n",
      "3  ...    article  https://www.nytimes.com/2022/12/01/movies/lady...   \n",
      "4  ...    article  https://www.nytimes.com/2022/11/03/movies/meet...   \n",
      "\n",
      "                            link.suggested_link_text      multimedia.type  \\\n",
      "0  Read the New York Times Review of What's Love ...  mediumThreeByTwo210   \n",
      "1  Read the New York Times Review of A Tourist's ...  mediumThreeByTwo210   \n",
      "2   Read the New York Times Review of One True Loves  mediumThreeByTwo210   \n",
      "3  Read the New York Times Review of Lady Chatter...  mediumThreeByTwo210   \n",
      "4  Read the New York Times Review of Meet Me in t...  mediumThreeByTwo210   \n",
      "\n",
      "                                      multimedia.src multimedia.height  \\\n",
      "0  https://static01.nyt.com/images/2023/05/04/mul...             140.0   \n",
      "1  https://static01.nyt.com/images/2023/04/21/mul...             140.0   \n",
      "2  https://static01.nyt.com/images/2023/04/13/mul...             140.0   \n",
      "3  https://static01.nyt.com/images/2022/12/01/mul...             140.0   \n",
      "4  https://static01.nyt.com/images/2022/11/04/art...             140.0   \n",
      "\n",
      "   multimedia.width multimedia                                         review  \\\n",
      "0             210.0        NaN  An insightful take on love and relationships.   \n",
      "1             210.0        NaN        A light-hearted guide for love-seekers.   \n",
      "2             210.0        NaN             A touching story of enduring love.   \n",
      "3             210.0        NaN                   A bold and passionate drama.   \n",
      "4             210.0        NaN        A nostalgic look back at an iconic era.   \n",
      "\n",
      "  review_date  \n",
      "0  2023-05-04  \n",
      "1  2023-04-21  \n",
      "2  2023-04-13  \n",
      "3  2022-12-01  \n",
      "4  2022-11-03  \n",
      "\n",
      "[5 rows x 33 columns]\n"
     ]
    }
   ],
   "source": [
    "# Delete duplicate rows and reset index\n",
    "merged_df = merged_df.drop_duplicates()\n",
    "merged_df = merged_df.reset_index(drop=True)\n",
    "print(merged_df.head())"
   ]
  },
  {
   "cell_type": "code",
   "execution_count": 33,
   "metadata": {},
   "outputs": [
    {
     "name": "stdout",
     "output_type": "stream",
     "text": [
      "                            title                  original_title  budget  \\\n",
      "0  What's Love Got to Do with It?  What's Love Got to Do with It?       0   \n",
      "1       A Tourist's Guide to Love       A Tourist's Guide to Love       0   \n",
      "2                  One True Loves                  One True Loves       0   \n",
      "3         Lady Chatterley's Lover         Lady Chatterley's Lover       0   \n",
      "4         Meet Me in the Bathroom         Meet Me in the Bathroom       0   \n",
      "\n",
      "                        genre language spoken_languages  \\\n",
      "0             Romance, Comedy       en    English, Urdu   \n",
      "1  Romance, Comedy, Adventure       en          English   \n",
      "2      Romance, Drama, Comedy       en          English   \n",
      "3              Drama, Romance       en          English   \n",
      "4          Documentary, Music       en          English   \n",
      "\n",
      "                                   homepage  \\\n",
      "0                                       NaN   \n",
      "1    https://www.netflix.com/title/81424906   \n",
      "2                                       NaN   \n",
      "3    https://www.netflix.com/title/81476441   \n",
      "4  https://www.meetmeinthebathroomfilm.com/   \n",
      "\n",
      "                                            overview  popularity  runtime  \\\n",
      "0  Two childhood friends now in their thirties mu...      26.487      109   \n",
      "1  After an unexpected break up, a travel executi...      35.446       96   \n",
      "2  Emma and Jesse are living the perfect life tog...      58.730      100   \n",
      "3  Unhappily married aristocrat Lady Chatterley b...      33.251      126   \n",
      "4  Set against the backdrop of 9/11, this documen...       6.626      108   \n",
      "\n",
      "   ...  link.type                                           link.url  \\\n",
      "0  ...    article  https://www.nytimes.com/2023/05/04/movies/what...   \n",
      "1  ...    article  https://www.nytimes.com/2023/04/21/movies/a-to...   \n",
      "2  ...    article  https://www.nytimes.com/2023/04/13/movies/one-...   \n",
      "3  ...    article  https://www.nytimes.com/2022/12/01/movies/lady...   \n",
      "4  ...    article  https://www.nytimes.com/2022/11/03/movies/meet...   \n",
      "\n",
      "                            link.suggested_link_text      multimedia.type  \\\n",
      "0  Read the New York Times Review of What's Love ...  mediumThreeByTwo210   \n",
      "1  Read the New York Times Review of A Tourist's ...  mediumThreeByTwo210   \n",
      "2   Read the New York Times Review of One True Loves  mediumThreeByTwo210   \n",
      "3  Read the New York Times Review of Lady Chatter...  mediumThreeByTwo210   \n",
      "4  Read the New York Times Review of Meet Me in t...  mediumThreeByTwo210   \n",
      "\n",
      "                                      multimedia.src multimedia.height  \\\n",
      "0  https://static01.nyt.com/images/2023/05/04/mul...             140.0   \n",
      "1  https://static01.nyt.com/images/2023/04/21/mul...             140.0   \n",
      "2  https://static01.nyt.com/images/2023/04/13/mul...             140.0   \n",
      "3  https://static01.nyt.com/images/2022/12/01/mul...             140.0   \n",
      "4  https://static01.nyt.com/images/2022/11/04/art...             140.0   \n",
      "\n",
      "   multimedia.width multimedia                                         review  \\\n",
      "0             210.0        NaN  An insightful take on love and relationships.   \n",
      "1             210.0        NaN        A light-hearted guide for love-seekers.   \n",
      "2             210.0        NaN             A touching story of enduring love.   \n",
      "3             210.0        NaN                   A bold and passionate drama.   \n",
      "4             210.0        NaN        A nostalgic look back at an iconic era.   \n",
      "\n",
      "  review_date  \n",
      "0  2023-05-04  \n",
      "1  2023-04-21  \n",
      "2  2023-04-13  \n",
      "3  2022-12-01  \n",
      "4  2022-11-03  \n",
      "\n",
      "[5 rows x 33 columns]\n"
     ]
    }
   ],
   "source": [
    "# Export data to CSV without the index\n",
    "output_csv_path = 'output\\collected_data.csv' \n",
    "merged_df.to_csv(output_csv_path, index=False)\n",
    "print(merged_df.head())"
   ]
  }
 ],
 "metadata": {
  "kernelspec": {
   "display_name": "Python 3 (ipykernel)",
   "language": "python",
   "name": "python3"
  },
  "language_info": {
   "codemirror_mode": {
    "name": "ipython",
    "version": 3
   },
   "file_extension": ".py",
   "mimetype": "text/x-python",
   "name": "python",
   "nbconvert_exporter": "python",
   "pygments_lexer": "ipython3",
   "version": "3.11.7"
  },
  "varInspector": {
   "cols": {
    "lenName": 16,
    "lenType": 16,
    "lenVar": 40
   },
   "kernels_config": {
    "python": {
     "delete_cmd_postfix": "",
     "delete_cmd_prefix": "del ",
     "library": "var_list.py",
     "varRefreshCmd": "print(var_dic_list())"
    },
    "r": {
     "delete_cmd_postfix": ") ",
     "delete_cmd_prefix": "rm(",
     "library": "var_list.r",
     "varRefreshCmd": "cat(var_dic_list()) "
    }
   },
   "types_to_exclude": [
    "module",
    "function",
    "builtin_function_or_method",
    "instance",
    "_Feature"
   ],
   "window_display": false
  }
 },
 "nbformat": 4,
 "nbformat_minor": 2
}
